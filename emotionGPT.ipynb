{
  "cells": [
    {
      "cell_type": "markdown",
      "metadata": {
        "id": "view-in-github",
        "colab_type": "text"
      },
      "source": [
        "<a href=\"https://colab.research.google.com/github/ibrahim7860/emotiongpt/blob/clean_backend/emotionGPT.ipynb\" target=\"_parent\"><img src=\"https://colab.research.google.com/assets/colab-badge.svg\" alt=\"Open In Colab\"/></a>"
      ]
    },
    {
      "cell_type": "markdown",
      "metadata": {
        "id": "k48h865gHByv"
      },
      "source": [
        "Need to do:\n",
        "  add noise to data to prevent overfit\n",
        "  mess around w/ batch size & epochs\n",
        "  (run this)"
      ]
    },
    {
      "cell_type": "code",
      "execution_count": null,
      "metadata": {
        "id": "nmnN2UMp1YYj"
      },
      "outputs": [],
      "source": [
        "import numpy as np\n",
        "import pandas as pd\n",
        "import os\n",
        "import seaborn as sns\n",
        "import matplotlib.pyplot as plt\n",
        "import librosa\n",
        "import librosa.display\n",
        "import tensorflow as tf\n",
        "from tqdm import tqdm\n",
        "from tensorflow.keras.models import Sequential\n",
        "from tensorflow.keras.layers import Dense, Conv2D, MaxPooling2D, Flatten, Dropout\n",
        "from sklearn.model_selection import train_test_split\n",
        "from IPython.display import Audio\n",
        "import warnings\n",
        "# don't need maybe\n",
        "from google.colab import drive"
      ]
    },
    {
      "cell_type": "markdown",
      "metadata": {
        "id": "EkeY7qqGF9Pn"
      },
      "source": [
        "# 新段落"
      ]
    },
    {
      "cell_type": "code",
      "source": [
        "drive.mount('/content/gdrive')"
      ],
      "metadata": {
        "colab": {
          "base_uri": "https://localhost:8080/"
        },
        "id": "IW6_tEEAJYxO",
        "outputId": "5ba51f3c-e140-4d98-863c-558ad6fbcfb1"
      },
      "execution_count": null,
      "outputs": [
        {
          "output_type": "stream",
          "name": "stdout",
          "text": [
            "Mounted at /content/gdrive\n"
          ]
        }
      ]
    },
    {
      "cell_type": "code",
      "source": [
        "path = \"/content/gdrive/MyDrive/Kaggle\"\n",
        "\n",
        "os.environ['KAGGLE_CONFIG_DIR'] = path\n",
        "os.chdir(path)\n"
      ],
      "metadata": {
        "id": "gBYWAYS7FuAP"
      },
      "execution_count": null,
      "outputs": []
    },
    {
      "cell_type": "markdown",
      "source": [
        "Use np.load(\"filename\") to retrieve np file information\n",
        "\n",
        "---\n",
        "\n",
        "use pd.read_pickle('filename') to retrieve dataframe\n"
      ],
      "metadata": {
        "id": "ki0BOmIyEWsg"
      }
    },
    {
      "cell_type": "code",
      "source": [
        "emotions_to_labels = {'angry':0, 'disgust':1, 'fear':2, 'happy':3, 'neutral':4, 'sad':5, 'pleasant':6}\n",
        "labels_to_emot = {v: k for k, v in emotions_to_labels.items()}  # wanted bidirectional mapping, this was an easy thing to do\n",
        "spects_feature_np = np.load(\"Spectrogram Features.npy\")\n",
        "data_labels_np = np.load(\"Data Labels.npy\")\n",
        "df = pd.read_pickle('Dataframe.csv')"
      ],
      "metadata": {
        "id": "1To4RwiiGnUI"
      },
      "execution_count": null,
      "outputs": []
    },
    {
      "cell_type": "markdown",
      "source": [
        "btw there is 14 subfolders for this dataset each with 200 entries.\n",
        "The order is the older actress w/ each 7 emotions then the younger one.\n",
        "(i.e. OAF_Fear, OAF_Pleasant, ..., OAF_neutral, YAF_angry, ..., YAF_sad)"
      ],
      "metadata": {
        "id": "qr937nrwhU9I"
      }
    },
    {
      "cell_type": "markdown",
      "source": [
        "df format is [speech, actors, labels, words, spectrogram]\n",
        "spectrogram as a numpy array is 128x128.\n",
        "pandas currently is only saving as a list (need to find a way to save multidimensional arrays for each entry)"
      ],
      "metadata": {
        "id": "wfjheh0jce8N"
      }
    },
    {
      "cell_type": "markdown",
      "metadata": {
        "id": "GHnlisXKXwdX"
      },
      "source": [
        "These are quick methods to plot waveplots & spectrograms"
      ]
    },
    {
      "cell_type": "code",
      "execution_count": null,
      "metadata": {
        "id": "ay9CCZ6KPboc"
      },
      "outputs": [],
      "source": [
        "def waveplot(data, sr, emotion):\n",
        "    plt.figure(figsize=(10,4))\n",
        "    plt.title(emotion, size=20)\n",
        "    librosa.display.waveshow(data, sr=sr)\n",
        "    plt.show()\n",
        "    \n",
        "def spectogram(data, sr, emotion):\n",
        "     x = librosa.stft(data)\n",
        "     xdb = librosa.amplitude_to_db(abs(x))\n",
        "     plt.figure(figsize=(11,4))\n",
        "     plt.title(emotion, size=20)\n",
        "     librosa.display.specshow(xdb, sr=sr, x_axis='time', y_axis='hz')\n",
        "     plt.colorbar()"
      ]
    },
    {
      "cell_type": "markdown",
      "source": [
        "\n",
        "Use tf.keras.models.load_model('filename') to retrieve\n",
        "\n",
        "---\n",
        "\n",
        "use train_history=np.load('emotionGPT history.npy',allow_pickle='TRUE').item()"
      ],
      "metadata": {
        "id": "nfOaC4kkGVsz"
      }
    },
    {
      "cell_type": "markdown",
      "source": [
        "Made assumption for name of the model/history stuff"
      ],
      "metadata": {
        "id": "9emJtREfCBux"
      }
    },
    {
      "cell_type": "code",
      "source": [
        "model = tf.keras.models.load_model('emotionGPT model.h5')\n",
        "train_history = np.load('emotionGPT history.npy',allow_pickle='TRUE').item()"
      ],
      "metadata": {
        "id": "qtJMLwjKHcjF"
      },
      "execution_count": null,
      "outputs": []
    },
    {
      "cell_type": "code",
      "source": [
        "def plot_model(train_history):\n",
        "  plt.plot(train_history['val_accuracy'])\n",
        "  plt.plot(train_history['accuracy'])\n",
        "  plt.title('emotionGPT Accuracy')\n",
        "  plt.ylabel('Accuracy')\n",
        "  plt.xlabel('Epoch #')\n",
        "  plt.legend(['Train', 'Test'], loc='upper left')\n",
        "  plt.show()"
      ],
      "metadata": {
        "id": "M-uwD6V4HvAV"
      },
      "execution_count": null,
      "outputs": []
    },
    {
      "cell_type": "code",
      "source": [
        "plot_model(train_history)"
      ],
      "metadata": {
        "colab": {
          "base_uri": "https://localhost:8080/",
          "height": 472
        },
        "id": "PPQyqRRjIQbL",
        "outputId": "90561417-177b-411f-88a4-afed6780d0ec"
      },
      "execution_count": null,
      "outputs": [
        {
          "output_type": "display_data",
          "data": {
            "text/plain": [
              "<Figure size 640x480 with 1 Axes>"
            ],
            "image/png": "[encoded data removed]"
          },
          "metadata": {}
        }
      ]
    },
    {
      "cell_type": "code",
      "source": [
        "def resize_extract(audio_wav):\n",
        "  new_check_audio, new_check_sr = librosa.load(audio_wav, sr=None, mono=True)\n",
        "  # Extract Mel spectrogram features\n",
        "  check_mel_spec = librosa.feature.melspectrogram(y=new_check_audio, sr=new_check_sr, n_fft=2048, hop_length=512, n_mels=128)\n",
        "  check_mel_spec = librosa.power_to_db(check_mel_spec, ref=np.max)\n",
        "  # Resize to 128x128\n",
        "  check_mel_spec.resize((128,128), refcheck=False)\n",
        "  # Resize for model\n",
        "  check_mel_spec = check_mel_spec.reshape(-1,128,128,1)\n",
        "  return check_mel_spec"
      ],
      "metadata": {
        "id": "x_k3LAcSMI45"
      },
      "execution_count": null,
      "outputs": []
    },
    {
      "cell_type": "code",
      "source": [
        "def get_label(check_mel_spec):\n",
        "  result = model.predict(check_mel_spec)\n",
        "  prob_arr = np.array(result)\n",
        "  np.set_printoptions(precision=10, suppress=True)\n",
        "  max_val = np.max(prob_arr)\n",
        "  max_index = np.argmax(prob_arr)\n",
        "  max_emotion = list(emotions_to_labels.keys())[list(emotions_to_labels.values()).index(max_index)]\n",
        "  return max_val, max_emotion"
      ],
      "metadata": {
        "id": "CHA7FVC-MRIU"
      },
      "execution_count": null,
      "outputs": []
    },
    {
      "cell_type": "markdown",
      "source": [
        "Testing-ify\n",
        "\n",
        "---\n",
        "\n",
        "This is the newer stuff that needs to be changed & what not"
      ],
      "metadata": {
        "id": "kLKt7KexdxYi"
      }
    },
    {
      "cell_type": "code",
      "source": [
        "test = df['speech'][1200]\n",
        "test_mel_spec = resize_extract(test)\n",
        "probability, emotion_label = get_label(test_mel_spec)\n",
        "print(f\"The largest number is: {probability}\")\n",
        "print(f\"Corresponding emotion is '{emotion_label}'\")"
      ],
      "metadata": {
        "colab": {
          "base_uri": "https://localhost:8080/"
        },
        "id": "sS8bK2qYKWnw",
        "outputId": "882f08cd-6930-4788-855b-eec4ef825e50"
      },
      "execution_count": null,
      "outputs": [
        {
          "output_type": "stream",
          "name": "stdout",
          "text": [
            "1/1 [==============================] - 0s 53ms/step\n",
            "The largest number is: 0.9999878406524658\n",
            "Corresponding emotion is 'neutral'\n"
          ]
        }
      ]
    },
    {
      "cell_type": "code",
      "source": [
        "from flask import Flask, request\n",
        "\n",
        "app = Flask(__name__)\n",
        "\n",
        "# Define a route for the endpoint that will receive audio input and return the predicted emotion\n",
        "@app.route('/predict-emotion', methods=['POST'])\n",
        "def predict_emotion():\n",
        "    # Get the audio input from the request\n",
        "    audio_file = request.files['audio']\n",
        "\n",
        "    new_test_audio, new_test_sr = librosa.load(audio_file, sr=None, mono=True)\n",
        "    # Extract Mel spectrogram features\n",
        "    test_mel_spec = librosa.feature.melspectrogram(y=new_test_audio, sr=new_test_sr, n_fft=2048, hop_length=512, n_mels=128)\n",
        "    test_mel_spec = librosa.power_to_db(test_mel_spec, ref=np.max)\n",
        "    # Resize to 128x128\n",
        "    test_mel_spec.resize((128,128), refcheck=False)\n",
        "    # Resize for model\n",
        "    test_mel_spec = test_mel_spec.reshape(-1,128,128,1)\n",
        "\n",
        "    check = spects_feature_np[0].reshape(-1,128,128,1)\n",
        "\n",
        "    result = model.predict(check)\n",
        "\n",
        "    arr = np.array(result)\n",
        "    np.set_printoptions(precision=10, suppress=True)\n",
        "    emotions_to_labels = {'angry':0, 'disgust':1, 'fear':2, 'happy':3, 'neutral':4, 'sad':5, 'pleasant':6}\n",
        "    max_val = np.max(arr)\n",
        "    max_index = np.argmax(arr)\n",
        "    max_emotion = list(emotions_to_labels.keys())[list(emotions_to_labels.values()).index(max_index)]\n",
        "\n",
        "    # Return the predicted emotion\n",
        "    return max_emotion\n",
        "\n",
        "# Run the Flask app\n",
        "if __name__ == '__main__':\n",
        "    app.run(host='0.0.0.0', port=5000, debug=True)"
      ],
      "metadata": {
        "id": "lXmlUF9-LlkS"
      },
      "execution_count": null,
      "outputs": []
    },
    {
      "cell_type": "code",
      "source": [
        "import requests\n",
        "\n",
        "url = 'http://localhost:5000/predict-emotion'\n",
        "files = {'audio': open('/content/drive/MyDrive/Kaggle/angry.wav', 'rb')}\n",
        "response = requests.post(url, files=files)\n",
        "\n",
        "print(response.text)"
      ],
      "metadata": {
        "id": "fdoPWr0rRgZ_"
      },
      "execution_count": null,
      "outputs": []
    }
  ],
  "metadata": {
    "colab": {
      "provenance": [],
      "include_colab_link": true
    },
    "kernelspec": {
      "display_name": "Python 3",
      "name": "python3"
    },
    "language_info": {
      "name": "python"
    }
  },
  "nbformat": 4,
  "nbformat_minor": 0
}